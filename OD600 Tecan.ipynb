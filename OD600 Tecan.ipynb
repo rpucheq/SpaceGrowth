{
 "cells": [
  {
   "cell_type": "markdown",
   "metadata": {},
   "source": [
    "# Method validation\n",
    "\n",
    "This notebook contains some charts to validate our solid media growth assays\n",
    "and to compare the two machines (Tecan and SpectraMax) we used.\n",
    "\n",
    "### To Do\n",
    "\n",
    "* Compare final time point from space and ground plates measured with the Tecan to the SpectraMax\n",
    "* Fix ledgend annotation as requested by reviewers"
   ]
  },
  {
   "cell_type": "code",
   "execution_count": 1,
   "metadata": {
    "collapsed": false
   },
   "outputs": [
    {
     "name": "stdout",
     "output_type": "stream",
     "text": [
      "Populating the interactive namespace from numpy and matplotlib\n"
     ]
    }
   ],
   "source": [
    "%pylab inline\n",
    "import pandas as pd"
   ]
  },
  {
   "cell_type": "code",
   "execution_count": 2,
   "metadata": {
    "collapsed": true
   },
   "outputs": [],
   "source": [
    "df = pd.DataFrame.from_csv('OD600_tecan.csv')"
   ]
  },
  {
   "cell_type": "code",
   "execution_count": 51,
   "metadata": {
    "collapsed": false
   },
   "outputs": [
    {
     "data": {
      "image/png": "[encoded data removed]",
      "text/plain": [
       "<matplotlib.figure.Figure at 0x7f12f9b93bd0>"
      ]
     },
     "metadata": {},
     "output_type": "display_data"
    }
   ],
   "source": [
    "plot( df.index/24, df['Bacillus safensis'], label='Bacillus safensis' )\n",
    "plot( df.index/24, df['Microbacterium arborescens'], label='Microbacterium arborescens' )\n",
    "plot( df.index/24, df['Empty'], label='Empty' )\n",
    "lgd = legend(bbox_to_anchor=(0, -0.35), loc=3, ncol=2, frameon=False )\n",
    "xticks( [1,2,3,4] )\n",
    "xlabel('Days')\n",
    "\n",
    "yticks( [0.2, 0.4, 0.6, 0.8, 1.0] )\n",
    "ylim(0,1.2)\n",
    "ylabel('OD600')\n",
    "\n",
    "title('OD600 on solid media (Tecan)')\n",
    "\n",
    "savefig('OD600_tecan.png', bbox_extra_artists=(lgd,), bbox_inches='tight')\n",
    "savefig('OD600_tecan.pdf', bbox_extra_artists=(lgd,), bbox_inches='tight')"
   ]
  },
  {
   "cell_type": "code",
   "execution_count": 87,
   "metadata": {
    "collapsed": false
   },
   "outputs": [],
   "source": [
    "df_tecan = pd.read_csv( 'tecan_final_OD600.csv', index_col=False ).set_index('Sample')\n",
    "df_sptmx = pd.read_csv( 'Space_vs_Ground.tsv', sep='\\t', index_col=False ).set_index('n')\n",
    "teams = pd.read_csv( 'spacebugs.tsv', sep='\\t', names=['n','source','species','short name'] )"
   ]
  },
  {
   "cell_type": "code",
   "execution_count": 89,
   "metadata": {
    "collapsed": false
   },
   "outputs": [
    {
     "data": {
      "text/html": [
       "<div>\n",
       "<table border=\"1\" class=\"dataframe\">\n",
       "  <thead>\n",
       "    <tr style=\"text-align: right;\">\n",
       "      <th></th>\n",
       "      <th>short name</th>\n",
       "      <th>long name</th>\n",
       "      <th>space 96h OD</th>\n",
       "      <th>space 96h OD std</th>\n",
       "      <th>ground 96h OD</th>\n",
       "      <th>ground 96h OD std</th>\n",
       "      <th>alive</th>\n",
       "    </tr>\n",
       "    <tr>\n",
       "      <th>n</th>\n",
       "      <th></th>\n",
       "      <th></th>\n",
       "      <th></th>\n",
       "      <th></th>\n",
       "      <th></th>\n",
       "      <th></th>\n",
       "      <th></th>\n",
       "    </tr>\n",
       "  </thead>\n",
       "  <tbody>\n",
       "    <tr>\n",
       "      <th>1</th>\n",
       "      <td>RAID3B</td>\n",
       "      <td>Oakland Raiders</td>\n",
       "      <td>1.445826</td>\n",
       "      <td>0.190053</td>\n",
       "      <td>1.445826</td>\n",
       "      <td>0.444495</td>\n",
       "      <td>True</td>\n",
       "    </tr>\n",
       "    <tr>\n",
       "      <th>2</th>\n",
       "      <td>Chit1C</td>\n",
       "      <td>Pop Warner Chittenango</td>\n",
       "      <td>0.985909</td>\n",
       "      <td>0.474196</td>\n",
       "      <td>0.985909</td>\n",
       "      <td>0.245507</td>\n",
       "      <td>True</td>\n",
       "    </tr>\n",
       "    <tr>\n",
       "      <th>3</th>\n",
       "      <td>MER 157</td>\n",
       "      <td>Mars Exploration Rover (JPL)</td>\n",
       "      <td>0.960022</td>\n",
       "      <td>0.220612</td>\n",
       "      <td>0.960022</td>\n",
       "      <td>0.434333</td>\n",
       "      <td>True</td>\n",
       "    </tr>\n",
       "    <tr>\n",
       "      <th>4</th>\n",
       "      <td>SMI9</td>\n",
       "      <td>Smithsonian A&amp;S Museum</td>\n",
       "      <td>1.246443</td>\n",
       "      <td>0.127038</td>\n",
       "      <td>1.246443</td>\n",
       "      <td>0.235467</td>\n",
       "      <td>True</td>\n",
       "    </tr>\n",
       "    <tr>\n",
       "      <th>5</th>\n",
       "      <td>DIS2A</td>\n",
       "      <td>Discover Magazine</td>\n",
       "      <td>1.221748</td>\n",
       "      <td>0.389365</td>\n",
       "      <td>1.221748</td>\n",
       "      <td>0.300231</td>\n",
       "      <td>True</td>\n",
       "    </tr>\n",
       "  </tbody>\n",
       "</table>\n",
       "</div>"
      ],
      "text/plain": [
       "  short name                     long name  space 96h OD  space 96h OD std  \\\n",
       "n                                                                            \n",
       "1     RAID3B               Oakland Raiders      1.445826          0.190053   \n",
       "2     Chit1C        Pop Warner Chittenango      0.985909          0.474196   \n",
       "3    MER 157  Mars Exploration Rover (JPL)      0.960022          0.220612   \n",
       "4       SMI9        Smithsonian A&S Museum      1.246443          0.127038   \n",
       "5      DIS2A             Discover Magazine      1.221748          0.389365   \n",
       "\n",
       "   ground 96h OD  ground 96h OD std alive  \n",
       "n                                          \n",
       "1       1.445826           0.444495  True  \n",
       "2       0.985909           0.245507  True  \n",
       "3       0.960022           0.434333  True  \n",
       "4       1.246443           0.235467  True  \n",
       "5       1.221748           0.300231  True  "
      ]
     },
     "execution_count": 89,
     "metadata": {},
     "output_type": "execute_result"
    }
   ],
   "source": [
    "df_sptmx.head()"
   ]
  },
  {
   "cell_type": "code",
   "execution_count": 52,
   "metadata": {
    "collapsed": false
   },
   "outputs": [
    {
     "data": {
      "text/html": [
       "<div>\n",
       "<table border=\"1\" class=\"dataframe\">\n",
       "  <thead>\n",
       "    <tr style=\"text-align: right;\">\n",
       "      <th></th>\n",
       "      <th>Space</th>\n",
       "      <th>STDEVspace</th>\n",
       "      <th>Ground</th>\n",
       "      <th>STDEVground</th>\n",
       "    </tr>\n",
       "    <tr>\n",
       "      <th>Sample</th>\n",
       "      <th></th>\n",
       "      <th></th>\n",
       "      <th></th>\n",
       "      <th></th>\n",
       "    </tr>\n",
       "  </thead>\n",
       "  <tbody>\n",
       "    <tr>\n",
       "      <th>1</th>\n",
       "      <td>1.786500</td>\n",
       "      <td>0.261703</td>\n",
       "      <td>1.576400</td>\n",
       "      <td>0.472096</td>\n",
       "    </tr>\n",
       "    <tr>\n",
       "      <th>2</th>\n",
       "      <td>1.231000</td>\n",
       "      <td>0.092113</td>\n",
       "      <td>0.799600</td>\n",
       "      <td>0.066749</td>\n",
       "    </tr>\n",
       "    <tr>\n",
       "      <th>3</th>\n",
       "      <td>0.847267</td>\n",
       "      <td>0.249040</td>\n",
       "      <td>0.998200</td>\n",
       "      <td>0.250245</td>\n",
       "    </tr>\n",
       "    <tr>\n",
       "      <th>4</th>\n",
       "      <td>1.411233</td>\n",
       "      <td>0.144923</td>\n",
       "      <td>1.292133</td>\n",
       "      <td>0.164600</td>\n",
       "    </tr>\n",
       "    <tr>\n",
       "      <th>5</th>\n",
       "      <td>1.378683</td>\n",
       "      <td>0.045681</td>\n",
       "      <td>1.182633</td>\n",
       "      <td>0.138315</td>\n",
       "    </tr>\n",
       "  </tbody>\n",
       "</table>\n",
       "</div>"
      ],
      "text/plain": [
       "           Space  STDEVspace    Ground  STDEVground\n",
       "Sample                                             \n",
       "1       1.786500    0.261703  1.576400     0.472096\n",
       "2       1.231000    0.092113  0.799600     0.066749\n",
       "3       0.847267    0.249040  0.998200     0.250245\n",
       "4       1.411233    0.144923  1.292133     0.164600\n",
       "5       1.378683    0.045681  1.182633     0.138315"
      ]
     },
     "execution_count": 52,
     "metadata": {},
     "output_type": "execute_result"
    }
   ],
   "source": [
    "df_tecan.head()"
   ]
  },
  {
   "cell_type": "code",
   "execution_count": 70,
   "metadata": {
    "collapsed": false
   },
   "outputs": [
    {
     "data": {
      "text/html": [
       "<div>\n",
       "<table border=\"1\" class=\"dataframe\">\n",
       "  <thead>\n",
       "    <tr style=\"text-align: right;\">\n",
       "      <th></th>\n",
       "      <th>n</th>\n",
       "      <th>source</th>\n",
       "      <th>species</th>\n",
       "      <th>short name</th>\n",
       "    </tr>\n",
       "  </thead>\n",
       "  <tbody>\n",
       "    <tr>\n",
       "      <th>0</th>\n",
       "      <td>1</td>\n",
       "      <td>JPL</td>\n",
       "      <td>Microbacteria arborescens</td>\n",
       "      <td>OB179</td>\n",
       "    </tr>\n",
       "    <tr>\n",
       "      <th>1</th>\n",
       "      <td>2</td>\n",
       "      <td>JPL</td>\n",
       "      <td>Bacillus safensis</td>\n",
       "      <td>MER TA 8-2</td>\n",
       "    </tr>\n",
       "    <tr>\n",
       "      <th>2</th>\n",
       "      <td>3</td>\n",
       "      <td>JPL</td>\n",
       "      <td>Bacillus pumilus</td>\n",
       "      <td>MER TA 21</td>\n",
       "    </tr>\n",
       "    <tr>\n",
       "      <th>3</th>\n",
       "      <td>4</td>\n",
       "      <td>JPL</td>\n",
       "      <td>Bacillus megaterium PPB5</td>\n",
       "      <td>273.1.3</td>\n",
       "    </tr>\n",
       "    <tr>\n",
       "      <th>4</th>\n",
       "      <td>5</td>\n",
       "      <td>JPL</td>\n",
       "      <td>Bacillus atrophaeus</td>\n",
       "      <td>MER TA 108</td>\n",
       "    </tr>\n",
       "  </tbody>\n",
       "</table>\n",
       "</div>"
      ],
      "text/plain": [
       "   n source                    species  short name\n",
       "0  1    JPL  Microbacteria arborescens       OB179\n",
       "1  2    JPL          Bacillus safensis  MER TA 8-2\n",
       "2  3    JPL           Bacillus pumilus   MER TA 21\n",
       "3  4    JPL   Bacillus megaterium PPB5     273.1.3\n",
       "4  5    JPL        Bacillus atrophaeus  MER TA 108"
      ]
     },
     "execution_count": 70,
     "metadata": {},
     "output_type": "execute_result"
    }
   ],
   "source": [
    "teams.head()"
   ]
  },
  {
   "cell_type": "code",
   "execution_count": 90,
   "metadata": {
    "collapsed": false
   },
   "outputs": [
    {
     "data": {
      "text/html": [
       "<div>\n",
       "<table border=\"1\" class=\"dataframe\">\n",
       "  <thead>\n",
       "    <tr style=\"text-align: right;\">\n",
       "      <th></th>\n",
       "      <th>short name</th>\n",
       "      <th>long name</th>\n",
       "      <th>space 96h OD</th>\n",
       "      <th>space 96h OD std</th>\n",
       "      <th>ground 96h OD</th>\n",
       "      <th>ground 96h OD std</th>\n",
       "      <th>alive</th>\n",
       "      <th>source</th>\n",
       "      <th>species</th>\n",
       "    </tr>\n",
       "    <tr>\n",
       "      <th>n</th>\n",
       "      <th></th>\n",
       "      <th></th>\n",
       "      <th></th>\n",
       "      <th></th>\n",
       "      <th></th>\n",
       "      <th></th>\n",
       "      <th></th>\n",
       "      <th></th>\n",
       "      <th></th>\n",
       "    </tr>\n",
       "  </thead>\n",
       "  <tbody>\n",
       "    <tr>\n",
       "      <th>1</th>\n",
       "      <td>OB179</td>\n",
       "      <td>1975 Viking Mars Orbiter</td>\n",
       "      <td>1.381485</td>\n",
       "      <td>0.097210</td>\n",
       "      <td>1.381485</td>\n",
       "      <td>0.417282</td>\n",
       "      <td>True</td>\n",
       "      <td>JPL</td>\n",
       "      <td>Microbacteria arborescens</td>\n",
       "    </tr>\n",
       "    <tr>\n",
       "      <th>2</th>\n",
       "      <td>MER TA 8-2</td>\n",
       "      <td>Mars Exploration Rover (JPL)</td>\n",
       "      <td>1.463374</td>\n",
       "      <td>0.138228</td>\n",
       "      <td>1.463374</td>\n",
       "      <td>0.409781</td>\n",
       "      <td>True</td>\n",
       "      <td>JPL</td>\n",
       "      <td>Bacillus safensis</td>\n",
       "    </tr>\n",
       "    <tr>\n",
       "      <th>3</th>\n",
       "      <td>MER TA 21</td>\n",
       "      <td>Mars Exploration Rover (JPL)</td>\n",
       "      <td>1.491609</td>\n",
       "      <td>0.314732</td>\n",
       "      <td>1.491609</td>\n",
       "      <td>0.234723</td>\n",
       "      <td>True</td>\n",
       "      <td>JPL</td>\n",
       "      <td>Bacillus pumilus</td>\n",
       "    </tr>\n",
       "    <tr>\n",
       "      <th>4</th>\n",
       "      <td>273.1.3</td>\n",
       "      <td>Mars Exploration Rover (JPL)</td>\n",
       "      <td>1.848448</td>\n",
       "      <td>0.094799</td>\n",
       "      <td>1.848448</td>\n",
       "      <td>0.205193</td>\n",
       "      <td>True</td>\n",
       "      <td>JPL</td>\n",
       "      <td>Bacillus megaterium PPB5</td>\n",
       "    </tr>\n",
       "    <tr>\n",
       "      <th>5</th>\n",
       "      <td>MER TA 108</td>\n",
       "      <td>Mars Exploration Rover (JPL)</td>\n",
       "      <td>1.232715</td>\n",
       "      <td>0.076658</td>\n",
       "      <td>1.232715</td>\n",
       "      <td>0.280418</td>\n",
       "      <td>True</td>\n",
       "      <td>JPL</td>\n",
       "      <td>Bacillus atrophaeus</td>\n",
       "    </tr>\n",
       "  </tbody>\n",
       "</table>\n",
       "</div>"
      ],
      "text/plain": [
       "   short name                     long name  space 96h OD  space 96h OD std  \\\n",
       "n                                                                             \n",
       "1       OB179      1975 Viking Mars Orbiter      1.381485          0.097210   \n",
       "2  MER TA 8-2  Mars Exploration Rover (JPL)      1.463374          0.138228   \n",
       "3   MER TA 21  Mars Exploration Rover (JPL)      1.491609          0.314732   \n",
       "4     273.1.3  Mars Exploration Rover (JPL)      1.848448          0.094799   \n",
       "5  MER TA 108  Mars Exploration Rover (JPL)      1.232715          0.076658   \n",
       "\n",
       "   ground 96h OD  ground 96h OD std alive source                    species  \n",
       "n                                                                            \n",
       "1       1.381485           0.417282  True    JPL  Microbacteria arborescens  \n",
       "2       1.463374           0.409781  True    JPL          Bacillus safensis  \n",
       "3       1.491609           0.234723  True    JPL           Bacillus pumilus  \n",
       "4       1.848448           0.205193  True    JPL   Bacillus megaterium PPB5  \n",
       "5       1.232715           0.280418  True    JPL        Bacillus atrophaeus  "
      ]
     },
     "execution_count": 90,
     "metadata": {},
     "output_type": "execute_result"
    }
   ],
   "source": [
    "df_sptmx = df_sptmx.merge( teams ).set_index('n').sort_index()\n",
    "df_sptmx.head()"
   ]
  },
  {
   "cell_type": "code",
   "execution_count": 94,
   "metadata": {
    "collapsed": false
   },
   "outputs": [
    {
     "data": {
      "text/plain": [
       "[<matplotlib.lines.Line2D at 0x7f046be20a50>]"
      ]
     },
     "execution_count": 94,
     "metadata": {},
     "output_type": "execute_result"
    },
    {
     "data": {
      "image/png": "[encoded data removed]",
      "text/plain": [
       "<matplotlib.figure.Figure at 0x7f046c15dfd0>"
      ]
     },
     "metadata": {},
     "output_type": "display_data"
    }
   ],
   "source": [
    "plot( df_tecan['Space'], df_sptmx['space 96h OD'], 'ro' )"
   ]
  },
  {
   "cell_type": "code",
   "execution_count": 95,
   "metadata": {
    "collapsed": false
   },
   "outputs": [
    {
     "data": {
      "text/plain": [
       "[<matplotlib.lines.Line2D at 0x7f046bd5a890>]"
      ]
     },
     "execution_count": 95,
     "metadata": {},
     "output_type": "execute_result"
    },
    {
     "data": {
      "image/png": "[encoded data removed]",
      "text/plain": [
       "<matplotlib.figure.Figure at 0x7f046bdbab10>"
      ]
     },
     "metadata": {},
     "output_type": "display_data"
    }
   ],
   "source": [
    "plot( df_tecan['Ground'], df_sptmx['ground 96h OD'], 'ro' )"
   ]
  },
  {
   "cell_type": "code",
   "execution_count": 4,
   "metadata": {
    "collapsed": false
   },
   "outputs": [],
   "source": [
    "ground1 = pd.read_csv( 'Tecan_final_ground1.csv' )\n",
    "ground2 = pd.read_csv( 'Tecan_final_ground2.csv' )\n",
    "ground3 = pd.read_csv( 'Tecan_final_ground3.csv' )\n",
    "\n",
    "space1 = pd.read_csv( 'Tecan_final_space1.csv' )\n",
    "space2 = pd.read_csv( 'Tecan_final_space2.csv' )\n",
    "space3 = pd.read_csv( 'Tecan_final_space3.csv' )"
   ]
  },
  {
   "cell_type": "code",
   "execution_count": null,
   "metadata": {
    "collapsed": true
   },
   "outputs": [],
   "source": []
  }
 ],
 "metadata": {
  "kernelspec": {
   "display_name": "Python 2",
   "language": "python",
   "name": "python2"
  },
  "language_info": {
   "codemirror_mode": {
    "name": "ipython",
    "version": 2
   },
   "file_extension": ".py",
   "mimetype": "text/x-python",
   "name": "python",
   "nbconvert_exporter": "python",
   "pygments_lexer": "ipython2",
   "version": "2.7.9"
  }
 },
 "nbformat": 4,
 "nbformat_minor": 0
}
